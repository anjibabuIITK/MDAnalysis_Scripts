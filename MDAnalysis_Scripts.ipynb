{
 "cells": [
  {
   "cell_type": "markdown",
   "metadata": {},
   "source": [
    "# MDAnalysis Basics"
   ]
  },
  {
   "cell_type": "code",
   "execution_count": 2,
   "metadata": {},
   "outputs": [],
   "source": [
    "import numpy as np\n",
    "import sys, os\n",
    "import math as math\n",
    "import MDAnalysis as MDA"
   ]
  },
  {
   "cell_type": "code",
   "execution_count": 12,
   "metadata": {},
   "outputs": [
    {
     "name": "stdout",
     "output_type": "stream",
     "text": [
      "0.19.2\n"
     ]
    }
   ],
   "source": [
    "# Print MDAnalysis version\n",
    "print(MDA.__version__)"
   ]
  },
  {
   "cell_type": "code",
   "execution_count": 4,
   "metadata": {},
   "outputs": [],
   "source": [
    "# Pass the Arguments to the script (gro and xtc )\n",
    "gro = sys.argv[1]\n",
    "xtc = sys.argv[2]"
   ]
  },
  {
   "cell_type": "code",
   "execution_count": 5,
   "metadata": {},
   "outputs": [],
   "source": [
    "# Define input file names\n",
    "gro = \"prod.gro\"\n",
    "xtc = \"pbc.xtc\""
   ]
  },
  {
   "cell_type": "code",
   "execution_count": 7,
   "metadata": {},
   "outputs": [
    {
     "name": "stdout",
     "output_type": "stream",
     "text": [
      "Given Input Files are:  prod.gro and pbc.xtc \n",
      "\n"
     ]
    }
   ],
   "source": [
    "print (\"Given Input Files are: \", gro, \"and\", xtc, \"\\n\")"
   ]
  },
  {
   "cell_type": "markdown",
   "metadata": {},
   "source": [
    "# Load the Trajectory into MDA"
   ]
  },
  {
   "cell_type": "code",
   "execution_count": 8,
   "metadata": {},
   "outputs": [],
   "source": [
    "# Read the trajectory \n",
    "u = MDA.Universe(gro,xtc)"
   ]
  },
  {
   "cell_type": "code",
   "execution_count": 10,
   "metadata": {},
   "outputs": [
    {
     "name": "stdout",
     "output_type": "stream",
     "text": [
      "No. of Frames: 2001 \n",
      "\n"
     ]
    }
   ],
   "source": [
    "#Get the number of frames of trajectory\n",
    "num_frames = len(u.trajectory)\n",
    "print (\"No. of Frames:\", num_frames, \"\\n\")"
   ]
  },
  {
   "cell_type": "code",
   "execution_count": 34,
   "metadata": {},
   "outputs": [
    {
     "name": "stdout",
     "output_type": "stream",
     "text": [
      "No. of Atoms:  2387 \n",
      "\n"
     ]
    }
   ],
   "source": [
    "# No of Atoms\n",
    "num_Atoms = len(u.atoms)\n",
    "print (\"No. of Atoms: \", num_Atoms, \"\\n\")"
   ]
  },
  {
   "cell_type": "code",
   "execution_count": 44,
   "metadata": {
    "scrolled": true
   },
   "outputs": [],
   "source": [
    "# List the all the Atoms\n",
    "#list(u.atoms)\n",
    "\n",
    "# List the first 5 atoms\n",
    "#list(u.atoms[:5])"
   ]
  },
  {
   "cell_type": "code",
   "execution_count": 17,
   "metadata": {},
   "outputs": [
    {
     "name": "stdout",
     "output_type": "stream",
     "text": [
      "No. of Residues:  789\n"
     ]
    }
   ],
   "source": [
    "# Number of Residues present\n",
    "residues = len(u.atoms.residues)\n",
    "print (\"No. of Residues: \", residues)"
   ]
  },
  {
   "cell_type": "code",
   "execution_count": 19,
   "metadata": {},
   "outputs": [
    {
     "name": "stdout",
     "output_type": "stream",
     "text": [
      "No. of Residues:  789\n"
     ]
    }
   ],
   "source": [
    "# Number of Residues present\n",
    "residues1 = u.atoms.n_residues\n",
    "print (\"No. of Residues: \", residues1)"
   ]
  },
  {
   "cell_type": "code",
   "execution_count": 31,
   "metadata": {},
   "outputs": [
    {
     "name": "stdout",
     "output_type": "stream",
     "text": [
      "Resid: 3 Resname: ALA\n"
     ]
    }
   ],
   "source": [
    "# Get resid & Resnames \n",
    "Residues = u.atoms.residues[2]\n",
    "resids = Residues.resid\n",
    "resnames = Residues.resname\n",
    "print (\"Resid:\", resids, \"Resname:\", resnames)"
   ]
  },
  {
   "cell_type": "markdown",
   "metadata": {},
   "source": [
    "# Atom Selection"
   ]
  },
  {
   "cell_type": "code",
   "execution_count": 53,
   "metadata": {},
   "outputs": [
    {
     "name": "stdout",
     "output_type": "stream",
     "text": [
      "No. of Protein Atoms:  32 No. of Water Atoms:  2355 \n",
      "\n"
     ]
    }
   ],
   "source": [
    "# MDAnalysis comes with a fairly complete atom selection facility. Primarily, one uses the method \n",
    "# select_atoms() of a Universe.\n",
    "\n",
    "protein = u.select_atoms(\"protein\")\n",
    "Protein_Atoms = len(protein)\n",
    "\n",
    "waters = u.select_atoms(\"resname WAT\")\n",
    "waters_atoms = len(waters)\n",
    "\n",
    "print (\"No. of Protein Atoms: \",Protein_Atoms, \"No. of Water Atoms: \", waters_atoms,\"\\n\")\n",
    "#list(protein)"
   ]
  },
  {
   "cell_type": "code",
   "execution_count": 57,
   "metadata": {},
   "outputs": [
    {
     "name": "stdout",
     "output_type": "stream",
     "text": [
      "No. of Total Residues: 789 \n",
      "\n",
      "No. of Protein Residues: 4 \n",
      "\n",
      "No. of Water Residues: 785 \n",
      "\n"
     ]
    }
   ],
   "source": [
    "# Total Residues\n",
    "residues = u.atoms.n_residues\n",
    "print (\"No. of Total Residues:\", residues, \"\\n\")\n",
    "\n",
    "# No of Protein Residues\n",
    "Protein_residues = len(protein.residues)\n",
    "print (\"No. of Protein Residues:\", Protein_residues, \"\\n\")\n",
    "\n",
    "# No. of Water Residues\n",
    "Water_residues = len(waters.residues)\n",
    "print (\"No. of Water Residues:\", Water_residues, \"\\n\")\n"
   ]
  },
  {
   "cell_type": "code",
   "execution_count": 61,
   "metadata": {},
   "outputs": [
    {
     "name": "stdout",
     "output_type": "stream",
     "text": [
      "[[15.130001 12.090001 11.71    ]\n",
      " [14.62     13.050001 11.620001]\n",
      " [14.14     13.380001 12.540001]\n",
      " [13.820001 12.820001 10.92    ]\n",
      " [15.500001 14.17     11.07    ]]\n"
     ]
    }
   ],
   "source": [
    "pos = protein.positions\n",
    "\n",
    "print (pos[:5])"
   ]
  },
  {
   "cell_type": "code",
   "execution_count": 72,
   "metadata": {},
   "outputs": [
    {
     "name": "stdout",
     "output_type": "stream",
     "text": [
      "[29.685 31.109 26.227]\n"
     ]
    }
   ],
   "source": [
    "# Print BOX dimensions\n",
    "box = u.dimensions\n",
    "print(box[:3])"
   ]
  },
  {
   "cell_type": "markdown",
   "metadata": {},
   "source": [
    "# Looping over trajectory"
   ]
  },
  {
   "cell_type": "code",
   "execution_count": null,
   "metadata": {},
   "outputs": [],
   "source": [
    "# Loop over trajectory or frames\n",
    "for ts in u.trajectory:\n",
    "   print(ts.frame)"
   ]
  },
  {
   "cell_type": "code",
   "execution_count": null,
   "metadata": {},
   "outputs": [],
   "source": []
  }
 ],
 "metadata": {
  "kernelspec": {
   "display_name": "Python 3",
   "language": "python",
   "name": "python3"
  },
  "language_info": {
   "codemirror_mode": {
    "name": "ipython",
    "version": 3
   },
   "file_extension": ".py",
   "mimetype": "text/x-python",
   "name": "python",
   "nbconvert_exporter": "python",
   "pygments_lexer": "ipython3",
   "version": "3.7.2"
  }
 },
 "nbformat": 4,
 "nbformat_minor": 2
}
